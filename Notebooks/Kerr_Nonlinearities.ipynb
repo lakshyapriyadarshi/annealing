{
 "cells": [
  {
   "cell_type": "code",
   "execution_count": 9,
   "metadata": {},
   "outputs": [],
   "source": [
    "%matplotlib inline\n",
    "import matplotlib as mpl\n",
    "import matplotlib.pyplot as plt\n",
    "import numpy as np\n",
    "from qutip import *"
   ]
  },
  {
   "cell_type": "code",
   "execution_count": 29,
   "metadata": {},
   "outputs": [],
   "source": [
    "K = np.complex(250,10)\n",
    "k = np.complex(15,2)\n",
    "E_p = 4*K\n",
    "\n",
    "def create_cat_state():\n",
    "    N = 10\n",
    "    a = destroy(10)\n",
    "    a_dag = create(10)\n",
    "    \n",
    "    r_not = (((4*E_p*E_p) - ((k*k)/4))/(4*K*K))**(1/4)\n",
    "    theta_not = 0.5*np.arctan((k/(((16*E_p*E_p) - k*k)**(0.5))))\n",
    "    a_not = r_not * np.exp(np.complex(0,theta_not))\n",
    "    \n",
    "    H_not = (-1)*K*a_dag*a_dag*a*a + (E_p*a_dag*a_dag + E_p.conjugate()*a*a)\n",
    "    H_eff = H_not - np.complex(0,1)*(k*a_dag*a*0.5)\n",
    "    D = displace(N,a_not)\n",
    "    \n",
    "    H_eff_prime = D.dag()*H_eff*D\n",
    "    s = coherent(N,a_not)\n",
    "    r = mesolve(H, psi0, tlist, [], [])\n",
    "    return H_eff_prime"
   ]
  },
  {
   "cell_type": "code",
   "execution_count": 32,
   "metadata": {},
   "outputs": [],
   "source": [
    "#create_cat_state()"
   ]
  },
  {
   "cell_type": "code",
   "execution_count": 30,
   "metadata": {},
   "outputs": [],
   "source": [
    "def plot_wigner(r):\n",
    "    figure, axis = plt.subplots(1, 1, figsize=(8,8))\n",
    "    x = np.linspace(-7.5,7.5,200)\n",
    "    W = wigner(r, x, x)\n",
    "    limit = abs(W).max()\n",
    "    axis.contourf(x, x, W, 1000, norm=mpl.colors.Normalize(-limit,limit), cmap=mpl.cm.get_cmap('RdBu'))\n",
    "    print(abs(W).max())\n",
    "    return figure, axis\n"
   ]
  },
  {
   "cell_type": "code",
   "execution_count": 31,
   "metadata": {},
   "outputs": [],
   "source": [
    "#plot_wigner(create_cat_state())"
   ]
  },
  {
   "cell_type": "code",
   "execution_count": 28,
   "metadata": {},
   "outputs": [],
   "source": [
    "def plot_fock_distribution_vs_time(tlist, states, fig=None, ax=None):\n",
    "    \n",
    "    Z = np.zeros((len(tlist), states[0].shape[0]))\n",
    "    \n",
    "    for state_idx, state in enumerate(states):\n",
    "        Z[state_idx,:] = real(ket2dm(state).diag())\n",
    "        \n",
    "    if fig is None or axes is None:\n",
    "        fig, ax = plt.subplots(1, 1, figsize=(8,6))\n",
    "\n",
    "    Y, X = meshgrid(tlist, range(states[0].shape[0]))\n",
    "    p = ax.pcolor(X, Y, Z.T, norm=mpl.colors.Normalize(0, 0.5), cmap=mpl.cm.get_cmap('Reds'), edgecolors='k')\n",
    "    ax.set_xlabel(r'$N$', fontsize=16)\n",
    "    ax.set_ylabel(r'$t$', fontsize=16)    \n",
    "    \n",
    "    cb = fig.colorbar(p)\n",
    "    cb.set_label('Probability')\n",
    "    \n",
    "    return fig, ax"
   ]
  },
  {
   "cell_type": "code",
   "execution_count": null,
   "metadata": {},
   "outputs": [],
   "source": []
  },
  {
   "cell_type": "code",
   "execution_count": 20,
   "metadata": {},
   "outputs": [],
   "source": []
  },
  {
   "cell_type": "code",
   "execution_count": 21,
   "metadata": {},
   "outputs": [],
   "source": []
  },
  {
   "cell_type": "code",
   "execution_count": null,
   "metadata": {},
   "outputs": [],
   "source": []
  },
  {
   "cell_type": "code",
   "execution_count": null,
   "metadata": {},
   "outputs": [],
   "source": []
  },
  {
   "cell_type": "code",
   "execution_count": null,
   "metadata": {},
   "outputs": [],
   "source": []
  }
 ],
 "metadata": {
  "kernelspec": {
   "display_name": "Python 3",
   "language": "python",
   "name": "python3"
  },
  "language_info": {
   "codemirror_mode": {
    "name": "ipython",
    "version": 3
   },
   "file_extension": ".py",
   "mimetype": "text/x-python",
   "name": "python",
   "nbconvert_exporter": "python",
   "pygments_lexer": "ipython3",
   "version": "3.6.6"
  }
 },
 "nbformat": 4,
 "nbformat_minor": 2
}
